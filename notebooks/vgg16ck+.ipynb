{
  "cells": [
    {
      "cell_type": "code",
      "execution_count": 1,
      "metadata": {
        "colab": {
          "base_uri": "https://localhost:8080/"
        },
        "id": "IErj2NzK_uUr",
        "outputId": "4aca4e4f-2fa1-4049-9efb-61fd797bab61"
      },
      "outputs": [
        {
          "output_type": "stream",
          "name": "stdout",
          "text": [
            "Mounted at /content/drive\n"
          ]
        }
      ],
      "source": [
        "from google.colab import drive\n",
        "drive.mount('/content/drive')"
      ]
    },
    {
      "cell_type": "code",
      "execution_count": 2,
      "metadata": {
        "colab": {
          "base_uri": "https://localhost:8080/"
        },
        "id": "hpcCNk_7A4i-",
        "outputId": "32047d7f-2231-42b6-dde4-34d373d1beda"
      },
      "outputs": [
        {
          "output_type": "stream",
          "name": "stdout",
          "text": [
            "drive  sample_data\n"
          ]
        }
      ],
      "source": [
        "!cd /content/drive/MyDrive/bda\n",
        "!ls"
      ]
    },
    {
      "cell_type": "code",
      "execution_count": 3,
      "metadata": {
        "id": "ujB_5qUBEAIy"
      },
      "outputs": [],
      "source": [
        "import tensorflow as tf\n",
        "from tensorflow.keras.applications import VGG16\n",
        "from tensorflow.keras.models import Model\n",
        "from tensorflow.keras.layers import Dense, Flatten\n",
        "from tensorflow.keras.preprocessing.image import ImageDataGenerator"
      ]
    },
    {
      "cell_type": "code",
      "execution_count": 4,
      "metadata": {
        "id": "GUapn_dOEALY"
      },
      "outputs": [],
      "source": [
        "# Define the paths for your training and testing data directories\n",
        "train_dir = '/content/drive/MyDrive/bda/data_ck+48/train'\n",
        "test_dir = '/content/drive/MyDrive/bda/data_ck+48/test'\n"
      ]
    },
    {
      "cell_type": "code",
      "execution_count": 5,
      "metadata": {
        "id": "InXlYej4EAOM",
        "colab": {
          "base_uri": "https://localhost:8080/"
        },
        "outputId": "47670895-c07c-404b-be9c-dfa4cf00dd07"
      },
      "outputs": [
        {
          "output_type": "stream",
          "name": "stdout",
          "text": [
            "Downloading data from https://storage.googleapis.com/tensorflow/keras-applications/vgg16/vgg16_weights_tf_dim_ordering_tf_kernels_notop.h5\n",
            "58889256/58889256 [==============================] - 0s 0us/step\n"
          ]
        }
      ],
      "source": [
        "# Define the VGG16 base model (pre-trained on ImageNet)\n",
        "base_model = VGG16(weights='imagenet', include_top=False, input_shape=(48,48, 3))\n",
        "\n",
        "# Freeze the layers of the VGG16 model\n",
        "for layer in base_model.layers:\n",
        "    layer.trainable = False\n",
        "\n",
        "# Add custom classification layers on top of the VGG16 base\n",
        "x = Flatten()(base_model.output)\n",
        "x = Dense(64, activation='relu')(x)\n",
        "x = Dense(128, activation='relu')(x)\n",
        "x = Dense(256, activation='relu')(x)\n",
        "x = Dense(512, activation='relu')(x)\n",
        "output = Dense(7, activation='softmax')(x)  # Change num_classes to the number of classes in your dataset"
      ]
    },
    {
      "cell_type": "code",
      "execution_count": 6,
      "metadata": {
        "id": "OayWg-v0EAQs"
      },
      "outputs": [],
      "source": [
        "model = Model(inputs=base_model.input, outputs=output)\n",
        "\n",
        "# Compile the model\n",
        "model.compile(optimizer='adam', loss='categorical_crossentropy', metrics=['accuracy'])"
      ]
    },
    {
      "cell_type": "code",
      "execution_count": 7,
      "metadata": {
        "colab": {
          "base_uri": "https://localhost:8080/"
        },
        "id": "-t3XlUUFEATZ",
        "outputId": "ab5798bb-0c29-4d99-aa5f-b8f247e4f82e"
      },
      "outputs": [
        {
          "output_type": "stream",
          "name": "stdout",
          "text": [
            "Found 679 images belonging to 7 classes.\n",
            "Found 337 images belonging to 7 classes.\n"
          ]
        }
      ],
      "source": [
        "# Set up data generators for training and testing\n",
        "batch_size = 32\n",
        "image_size = (48,48)\n",
        "\n",
        "train_datagen = ImageDataGenerator(rescale=1./255, rotation_range=3, width_shift_range=0.1, height_shift_range=0.1, shear_range=0.1, zoom_range=0.1, horizontal_flip=True, fill_mode='nearest')\n",
        "test_datagen = ImageDataGenerator(rescale=1./255)\n",
        "\n",
        "train_generator = train_datagen.flow_from_directory(train_dir, target_size=image_size, batch_size=batch_size, class_mode='categorical')\n",
        "test_generator = test_datagen.flow_from_directory(test_dir, target_size=image_size, batch_size=batch_size, class_mode='categorical')"
      ]
    },
    {
      "cell_type": "code",
      "execution_count": null,
      "metadata": {
        "id": "_NYFEUpCEAWQ"
      },
      "outputs": [],
      "source": [
        "epochs = 22# Adjust as needed\n",
        "model.fit(train_generator, epochs=epochs, validation_data=test_generator)\n",
        "\n",
        "# Evaluate the model\n",
        "test_loss, test_acc = model.evaluate(test_generator)\n",
        "print(f\"Test accuracy: {test_acc}\")"
      ]
    },
    {
      "cell_type": "code",
      "execution_count": null,
      "metadata": {
        "id": "8Hf5h-XQEAZB"
      },
      "outputs": [],
      "source": [
        "# Checking the train and test loss and accuracy values from the neural network above.\n",
        "import matplotlib.pyplot as plt\n",
        "# Plot the accuracy over epochs\n",
        "plt.plot(model.model['accuracy'], label='Training Accuracy')\n",
        "plt.plot(model.model['val_accuracy'], label='Validation Accuracy')\n",
        "plt.xlabel('Epochs')\n",
        "plt.ylabel('Accuracy')\n",
        "plt.legend()\n",
        "plt.show()\n",
        "\n",
        "# Evaluate the model\n",
        "test_loss, test_acc = model.evaluate(test_generator)\n",
        "print(f\"Test accuracy: {test_acc}\")\n"
      ]
    },
    {
      "cell_type": "code",
      "execution_count": 1,
      "metadata": {
        "colab": {
          "base_uri": "https://localhost:8080/",
          "height": 1000
        },
        "id": "gOuQlghnbQi0",
        "outputId": "a8a11ec8-f8f3-4f97-905f-78d04177d0a5"
      },
      "outputs": [
        {
          "output_type": "stream",
          "name": "stdout",
          "text": [
            "Found 679 images belonging to 7 classes.\n",
            "Found 337 images belonging to 7 classes.\n",
            "Epoch 1/14\n",
            "22/22 [==============================] - 227s 10s/step - loss: 1.7282 - accuracy: 0.3711 - val_loss: 1.4888 - val_accuracy: 0.5074\n",
            "Epoch 2/14\n",
            "22/22 [==============================] - 3s 122ms/step - loss: 1.3551 - accuracy: 0.4978 - val_loss: 1.1590 - val_accuracy: 0.6795\n",
            "Epoch 3/14\n",
            "22/22 [==============================] - 3s 113ms/step - loss: 1.1587 - accuracy: 0.5626 - val_loss: 1.1020 - val_accuracy: 0.5816\n",
            "Epoch 4/14\n",
            "22/22 [==============================] - 2s 104ms/step - loss: 1.0296 - accuracy: 0.6362 - val_loss: 0.9938 - val_accuracy: 0.6825\n",
            "Epoch 5/14\n",
            "22/22 [==============================] - 2s 106ms/step - loss: 1.0210 - accuracy: 0.6333 - val_loss: 0.9650 - val_accuracy: 0.6944\n",
            "Epoch 6/14\n",
            "22/22 [==============================] - 2s 105ms/step - loss: 0.9330 - accuracy: 0.6627 - val_loss: 0.9332 - val_accuracy: 0.7211\n",
            "Epoch 7/14\n",
            "22/22 [==============================] - 2s 108ms/step - loss: 0.8440 - accuracy: 0.7099 - val_loss: 0.9522 - val_accuracy: 0.6706\n",
            "Epoch 8/14\n",
            "22/22 [==============================] - 3s 128ms/step - loss: 0.8252 - accuracy: 0.7054 - val_loss: 0.8520 - val_accuracy: 0.7270\n",
            "Epoch 9/14\n",
            "22/22 [==============================] - 2s 102ms/step - loss: 0.7451 - accuracy: 0.7261 - val_loss: 1.0694 - val_accuracy: 0.6973\n",
            "Epoch 10/14\n",
            "22/22 [==============================] - 2s 102ms/step - loss: 0.7194 - accuracy: 0.7452 - val_loss: 0.9028 - val_accuracy: 0.6973\n",
            "Epoch 11/14\n",
            "22/22 [==============================] - 2s 104ms/step - loss: 0.6532 - accuracy: 0.7732 - val_loss: 0.9548 - val_accuracy: 0.7389\n",
            "Epoch 12/14\n",
            "22/22 [==============================] - 3s 117ms/step - loss: 0.6788 - accuracy: 0.7541 - val_loss: 0.9951 - val_accuracy: 0.7033\n",
            "Epoch 13/14\n",
            "22/22 [==============================] - 2s 103ms/step - loss: 0.6486 - accuracy: 0.7732 - val_loss: 0.8834 - val_accuracy: 0.7537\n",
            "Epoch 14/14\n",
            "22/22 [==============================] - 2s 104ms/step - loss: 0.5505 - accuracy: 0.7982 - val_loss: 0.9594 - val_accuracy: 0.7567\n"
          ]
        },
        {
          "output_type": "display_data",
          "data": {
            "text/plain": [
              "<Figure size 640x480 with 1 Axes>"
            ],
            "image/png": "[encoded data removed]"
          },
          "metadata": {}
        },
        {
          "output_type": "stream",
          "name": "stdout",
          "text": [
            "11/11 [==============================] - 1s 57ms/step - loss: 0.9594 - accuracy: 0.7567\n",
            "Test accuracy: 0.7566765546798706\n"
          ]
        }
      ],
      "source": [
        "import tensorflow as tf\n",
        "from tensorflow.keras.applications import VGG16\n",
        "from tensorflow.keras.models import Model\n",
        "from tensorflow.keras.layers import Dense, Flatten\n",
        "from tensorflow.keras.preprocessing.image import ImageDataGenerator\n",
        "import matplotlib.pyplot as plt  # Import matplotlib for plotting\n",
        "\n",
        "# Define the paths for your training and testing data directories\n",
        "train_dir = '/content/drive/MyDrive/bda/data_ck+48/train'\n",
        "test_dir = '/content/drive/MyDrive/bda/data_ck+48/test'\n",
        "\n",
        "# Define the VGG16 base model (pre-trained on ImageNet)\n",
        "base_model = VGG16(weights='imagenet', include_top=False, input_shape=(48,48, 3))\n",
        "\n",
        "# Freeze the layers of the VGG16 model\n",
        "for layer in base_model.layers:\n",
        "    layer.trainable = False\n",
        "\n",
        "# Add custom classification layers on top of the VGG16 base\n",
        "x = Flatten()(base_model.output)\n",
        "x = Dense(64, activation='relu')(x)\n",
        "x = Dense(128, activation='relu')(x)\n",
        "x = Dense(256, activation='relu')(x)\n",
        "x = Dense(512, activation='relu')(x)\n",
        "output = Dense(7, activation='softmax')(x)  # Change num_classes to the number of classes in your dataset\n",
        "\n",
        "model = Model(inputs=base_model.input, outputs=output)\n",
        "\n",
        "# Compile the model\n",
        "model.compile(optimizer='adam', loss='categorical_crossentropy', metrics=['accuracy'])\n",
        "\n",
        "# Set up data generators for training and testing\n",
        "batch_size = 32\n",
        "image_size = (48,48)\n",
        "\n",
        "train_datagen = ImageDataGenerator(rescale=1./255, rotation_range=3, width_shift_range=0.1, height_shift_range=0.1, shear_range=0.1, zoom_range=0.1, horizontal_flip=True, fill_mode='nearest')\n",
        "test_datagen = ImageDataGenerator(rescale=1./255)\n",
        "\n",
        "train_generator = train_datagen.flow_from_directory(train_dir, target_size=image_size, batch_size=batch_size, class_mode='categorical')\n",
        "test_generator = test_datagen.flow_from_directory(test_dir, target_size=image_size, batch_size=batch_size, class_mode='categorical')\n",
        "\n",
        "# Train the model\n",
        "epochs = 14\n",
        "history = model.fit(train_generator, epochs=epochs, validation_data=test_generator)\n",
        "\n",
        "# Plot the accuracy over epochs\n",
        "plt.plot(history.history['accuracy'], label='Training Accuracy')\n",
        "plt.plot(history.history['val_accuracy'], label='Validation Accuracy')\n",
        "plt.xlabel('Epochs')\n",
        "plt.ylabel('Accuracy')\n",
        "plt.legend()\n",
        "plt.show()\n",
        "\n",
        "# Evaluate the model\n",
        "test_loss, test_acc = model.evaluate(test_generator)\n",
        "print(f\"Test accuracy: {test_acc}\")\n"
      ]
    }
  ],
  "metadata": {
    "accelerator": "GPU",
    "colab": {
      "provenance": []
    },
    "kernelspec": {
      "display_name": "Python 3",
      "name": "python3"
    },
    "language_info": {
      "name": "python"
    }
  },
  "nbformat": 4,
  "nbformat_minor": 0
}